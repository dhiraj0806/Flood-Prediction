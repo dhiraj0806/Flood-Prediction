{
  "nbformat": 4,
  "nbformat_minor": 0,
  "metadata": {
    "colab": {
      "name": "Flood Prediction(PBL).ipynb",
      "provenance": [],
      "collapsed_sections": [],
      "include_colab_link": true
    },
    "kernelspec": {
      "name": "python3",
      "display_name": "Python 3"
    },
    "language_info": {
      "name": "python"
    }
  },
  "cells": [
    {
      "cell_type": "markdown",
      "metadata": {
        "id": "view-in-github",
        "colab_type": "text"
      },
      "source": [
        "<a href=\"https://colab.research.google.com/github/dhiraj0806/Flood-Prediction/blob/main/Flood_Prediction(PBL).ipynb\" target=\"_parent\"><img src=\"https://colab.research.google.com/assets/colab-badge.svg\" alt=\"Open In Colab\"/></a>"
      ]
    },
    {
      "cell_type": "code",
      "metadata": {
        "id": "nIQc5Wp2k_IS"
      },
      "source": [
        "import pandas as pd\n",
        "import numpy as np\n",
        "import matplotlib.pyplot as plt"
      ],
      "execution_count": null,
      "outputs": []
    },
    {
      "cell_type": "code",
      "metadata": {
        "id": "Zr2YX4gVmZql"
      },
      "source": [
        "ds = pd.read_csv('kerala.csv')"
      ],
      "execution_count": null,
      "outputs": []
    },
    {
      "cell_type": "code",
      "metadata": {
        "colab": {
          "base_uri": "https://localhost:8080/"
        },
        "id": "MbjADZYzCdQ8",
        "outputId": "5e4a5586-ee9f-49a8-b21a-565d936eddf8"
      },
      "source": [
        "print(ds)"
      ],
      "execution_count": null,
      "outputs": [
        {
          "output_type": "stream",
          "name": "stdout",
          "text": [
            "    SUBDIVISION  YEAR   JAN   FEB  ...    NOV    DEC   ANNUAL RAINFALL  FLOODS\n",
            "0        KERALA  1901  28.7  44.7  ...  350.8   48.4            3248.6     YES\n",
            "1        KERALA  1902   6.7   2.6  ...  158.3  121.5            3326.6     YES\n",
            "2        KERALA  1903   3.2  18.6  ...  157.0   59.0            3271.2     YES\n",
            "3        KERALA  1904  23.7   3.0  ...   33.9    3.3            3129.7     YES\n",
            "4        KERALA  1905   1.2  22.3  ...   74.4    0.2            2741.6      NO\n",
            "..          ...   ...   ...   ...  ...    ...    ...               ...     ...\n",
            "113      KERALA  2014   4.6  10.3  ...   99.5   47.2            3046.4     YES\n",
            "114      KERALA  2015   3.1   5.8  ...  223.6   79.4            2600.6      NO\n",
            "115      KERALA  2016   2.4   3.8  ...  125.4   23.6            2176.6      NO\n",
            "116     KERALA   2017   1.9   6.8  ...   92.5   38.1            2117.1      NO\n",
            "117      KERALA  2018  29.1  52.1  ...  125.4   65.1            4473.0     YES\n",
            "\n",
            "[118 rows x 16 columns]\n"
          ]
        }
      ]
    },
    {
      "cell_type": "code",
      "metadata": {
        "id": "B0ZpdyXjohLn"
      },
      "source": [
        "ds = ds.drop(['SUBDIVISION','YEAR'] , axis=1)"
      ],
      "execution_count": null,
      "outputs": []
    },
    {
      "cell_type": "code",
      "metadata": {
        "colab": {
          "base_uri": "https://localhost:8080/"
        },
        "id": "xVHgw_AWmsog",
        "outputId": "5021aa6b-3d1c-4b64-f26d-86477d39d30a"
      },
      "source": [
        "print(ds)"
      ],
      "execution_count": null,
      "outputs": [
        {
          "output_type": "stream",
          "name": "stdout",
          "text": [
            "      JAN   FEB   MAR    APR  ...    NOV    DEC   ANNUAL RAINFALL  FLOODS\n",
            "0    28.7  44.7  51.6  160.0  ...  350.8   48.4            3248.6     YES\n",
            "1     6.7   2.6  57.3   83.9  ...  158.3  121.5            3326.6     YES\n",
            "2     3.2  18.6   3.1   83.6  ...  157.0   59.0            3271.2     YES\n",
            "3    23.7   3.0  32.2   71.5  ...   33.9    3.3            3129.7     YES\n",
            "4     1.2  22.3   9.4  105.9  ...   74.4    0.2            2741.6      NO\n",
            "..    ...   ...   ...    ...  ...    ...    ...               ...     ...\n",
            "113   4.6  10.3  17.9   95.7  ...   99.5   47.2            3046.4     YES\n",
            "114   3.1   5.8  50.1  214.1  ...  223.6   79.4            2600.6      NO\n",
            "115   2.4   3.8  35.9  143.0  ...  125.4   23.6            2176.6      NO\n",
            "116   1.9   6.8   8.9   43.6  ...   92.5   38.1            2117.1      NO\n",
            "117  29.1  52.1  48.6  116.4  ...  125.4   65.1            4473.0     YES\n",
            "\n",
            "[118 rows x 14 columns]\n"
          ]
        }
      ]
    },
    {
      "cell_type": "code",
      "metadata": {
        "colab": {
          "base_uri": "https://localhost:8080/"
        },
        "id": "aejHIMgsekbj",
        "outputId": "52e9a6a2-0c42-45a6-c742-335a0558030f"
      },
      "source": [
        "ds.shape"
      ],
      "execution_count": null,
      "outputs": [
        {
          "output_type": "execute_result",
          "data": {
            "text/plain": [
              "(118, 14)"
            ]
          },
          "metadata": {},
          "execution_count": 6
        }
      ]
    },
    {
      "cell_type": "code",
      "metadata": {
        "colab": {
          "base_uri": "https://localhost:8080/"
        },
        "id": "NC4zA0qBObSv",
        "outputId": "39abaf52-866e-4219-f785-bc574881d137"
      },
      "source": [
        "print(ds.FLOODS.value_counts())"
      ],
      "execution_count": null,
      "outputs": [
        {
          "output_type": "stream",
          "name": "stdout",
          "text": [
            "YES    60\n",
            "NO     58\n",
            "Name: FLOODS, dtype: int64\n"
          ]
        }
      ]
    },
    {
      "cell_type": "code",
      "metadata": {
        "colab": {
          "base_uri": "https://localhost:8080/",
          "height": 452
        },
        "id": "x14FEbNoN1ll",
        "outputId": "c8a8a075-6d4c-4ca5-90df-3d78c67f1348"
      },
      "source": [
        "ds.corr()"
      ],
      "execution_count": null,
      "outputs": [
        {
          "output_type": "execute_result",
          "data": {
            "text/html": [
              "<div>\n",
              "<style scoped>\n",
              "    .dataframe tbody tr th:only-of-type {\n",
              "        vertical-align: middle;\n",
              "    }\n",
              "\n",
              "    .dataframe tbody tr th {\n",
              "        vertical-align: top;\n",
              "    }\n",
              "\n",
              "    .dataframe thead th {\n",
              "        text-align: right;\n",
              "    }\n",
              "</style>\n",
              "<table border=\"1\" class=\"dataframe\">\n",
              "  <thead>\n",
              "    <tr style=\"text-align: right;\">\n",
              "      <th></th>\n",
              "      <th>JAN</th>\n",
              "      <th>FEB</th>\n",
              "      <th>MAR</th>\n",
              "      <th>APR</th>\n",
              "      <th>MAY</th>\n",
              "      <th>JUN</th>\n",
              "      <th>JUL</th>\n",
              "      <th>AUG</th>\n",
              "      <th>SEP</th>\n",
              "      <th>OCT</th>\n",
              "      <th>NOV</th>\n",
              "      <th>DEC</th>\n",
              "      <th>ANNUAL RAINFALL</th>\n",
              "    </tr>\n",
              "  </thead>\n",
              "  <tbody>\n",
              "    <tr>\n",
              "      <th>JAN</th>\n",
              "      <td>1.000000</td>\n",
              "      <td>0.019613</td>\n",
              "      <td>0.078626</td>\n",
              "      <td>0.034807</td>\n",
              "      <td>0.071420</td>\n",
              "      <td>0.189375</td>\n",
              "      <td>0.034423</td>\n",
              "      <td>0.008677</td>\n",
              "      <td>-0.113502</td>\n",
              "      <td>-0.035044</td>\n",
              "      <td>-0.011034</td>\n",
              "      <td>-0.089809</td>\n",
              "      <td>0.118648</td>\n",
              "    </tr>\n",
              "    <tr>\n",
              "      <th>FEB</th>\n",
              "      <td>0.019613</td>\n",
              "      <td>1.000000</td>\n",
              "      <td>0.245375</td>\n",
              "      <td>0.123706</td>\n",
              "      <td>-0.083500</td>\n",
              "      <td>0.054114</td>\n",
              "      <td>0.005789</td>\n",
              "      <td>0.023259</td>\n",
              "      <td>0.066317</td>\n",
              "      <td>0.053133</td>\n",
              "      <td>-0.162880</td>\n",
              "      <td>-0.127025</td>\n",
              "      <td>0.061457</td>\n",
              "    </tr>\n",
              "    <tr>\n",
              "      <th>MAR</th>\n",
              "      <td>0.078626</td>\n",
              "      <td>0.245375</td>\n",
              "      <td>1.000000</td>\n",
              "      <td>0.074014</td>\n",
              "      <td>-0.102961</td>\n",
              "      <td>0.019000</td>\n",
              "      <td>0.018330</td>\n",
              "      <td>0.042411</td>\n",
              "      <td>0.143850</td>\n",
              "      <td>-0.023066</td>\n",
              "      <td>-0.032612</td>\n",
              "      <td>0.026292</td>\n",
              "      <td>0.116103</td>\n",
              "    </tr>\n",
              "    <tr>\n",
              "      <th>APR</th>\n",
              "      <td>0.034807</td>\n",
              "      <td>0.123706</td>\n",
              "      <td>0.074014</td>\n",
              "      <td>1.000000</td>\n",
              "      <td>-0.114566</td>\n",
              "      <td>0.072990</td>\n",
              "      <td>0.014977</td>\n",
              "      <td>-0.047842</td>\n",
              "      <td>0.012928</td>\n",
              "      <td>0.113172</td>\n",
              "      <td>0.022206</td>\n",
              "      <td>-0.110392</td>\n",
              "      <td>0.112358</td>\n",
              "    </tr>\n",
              "    <tr>\n",
              "      <th>MAY</th>\n",
              "      <td>0.071420</td>\n",
              "      <td>-0.083500</td>\n",
              "      <td>-0.102961</td>\n",
              "      <td>-0.114566</td>\n",
              "      <td>1.000000</td>\n",
              "      <td>0.001235</td>\n",
              "      <td>-0.046518</td>\n",
              "      <td>-0.124412</td>\n",
              "      <td>0.116860</td>\n",
              "      <td>0.197102</td>\n",
              "      <td>0.094934</td>\n",
              "      <td>-0.118077</td>\n",
              "      <td>0.314723</td>\n",
              "    </tr>\n",
              "    <tr>\n",
              "      <th>JUN</th>\n",
              "      <td>0.189375</td>\n",
              "      <td>0.054114</td>\n",
              "      <td>0.019000</td>\n",
              "      <td>0.072990</td>\n",
              "      <td>0.001235</td>\n",
              "      <td>1.000000</td>\n",
              "      <td>0.094939</td>\n",
              "      <td>-0.014549</td>\n",
              "      <td>-0.052634</td>\n",
              "      <td>0.001156</td>\n",
              "      <td>0.015967</td>\n",
              "      <td>-0.085188</td>\n",
              "      <td>0.453407</td>\n",
              "    </tr>\n",
              "    <tr>\n",
              "      <th>JUL</th>\n",
              "      <td>0.034423</td>\n",
              "      <td>0.005789</td>\n",
              "      <td>0.018330</td>\n",
              "      <td>0.014977</td>\n",
              "      <td>-0.046518</td>\n",
              "      <td>0.094939</td>\n",
              "      <td>1.000000</td>\n",
              "      <td>0.154467</td>\n",
              "      <td>0.209441</td>\n",
              "      <td>0.025223</td>\n",
              "      <td>-0.028526</td>\n",
              "      <td>-0.013573</td>\n",
              "      <td>0.651990</td>\n",
              "    </tr>\n",
              "    <tr>\n",
              "      <th>AUG</th>\n",
              "      <td>0.008677</td>\n",
              "      <td>0.023259</td>\n",
              "      <td>0.042411</td>\n",
              "      <td>-0.047842</td>\n",
              "      <td>-0.124412</td>\n",
              "      <td>-0.014549</td>\n",
              "      <td>0.154467</td>\n",
              "      <td>1.000000</td>\n",
              "      <td>0.098215</td>\n",
              "      <td>-0.181496</td>\n",
              "      <td>-0.112729</td>\n",
              "      <td>0.142090</td>\n",
              "      <td>0.413036</td>\n",
              "    </tr>\n",
              "    <tr>\n",
              "      <th>SEP</th>\n",
              "      <td>-0.113502</td>\n",
              "      <td>0.066317</td>\n",
              "      <td>0.143850</td>\n",
              "      <td>0.012928</td>\n",
              "      <td>0.116860</td>\n",
              "      <td>-0.052634</td>\n",
              "      <td>0.209441</td>\n",
              "      <td>0.098215</td>\n",
              "      <td>1.000000</td>\n",
              "      <td>-0.032348</td>\n",
              "      <td>-0.027615</td>\n",
              "      <td>-0.011007</td>\n",
              "      <td>0.428344</td>\n",
              "    </tr>\n",
              "    <tr>\n",
              "      <th>OCT</th>\n",
              "      <td>-0.035044</td>\n",
              "      <td>0.053133</td>\n",
              "      <td>-0.023066</td>\n",
              "      <td>0.113172</td>\n",
              "      <td>0.197102</td>\n",
              "      <td>0.001156</td>\n",
              "      <td>0.025223</td>\n",
              "      <td>-0.181496</td>\n",
              "      <td>-0.032348</td>\n",
              "      <td>1.000000</td>\n",
              "      <td>-0.024060</td>\n",
              "      <td>-0.039067</td>\n",
              "      <td>0.205861</td>\n",
              "    </tr>\n",
              "    <tr>\n",
              "      <th>NOV</th>\n",
              "      <td>-0.011034</td>\n",
              "      <td>-0.162880</td>\n",
              "      <td>-0.032612</td>\n",
              "      <td>0.022206</td>\n",
              "      <td>0.094934</td>\n",
              "      <td>0.015967</td>\n",
              "      <td>-0.028526</td>\n",
              "      <td>-0.112729</td>\n",
              "      <td>-0.027615</td>\n",
              "      <td>-0.024060</td>\n",
              "      <td>1.000000</td>\n",
              "      <td>0.070720</td>\n",
              "      <td>0.148783</td>\n",
              "    </tr>\n",
              "    <tr>\n",
              "      <th>DEC</th>\n",
              "      <td>-0.089809</td>\n",
              "      <td>-0.127025</td>\n",
              "      <td>0.026292</td>\n",
              "      <td>-0.110392</td>\n",
              "      <td>-0.118077</td>\n",
              "      <td>-0.085188</td>\n",
              "      <td>-0.013573</td>\n",
              "      <td>0.142090</td>\n",
              "      <td>-0.011007</td>\n",
              "      <td>-0.039067</td>\n",
              "      <td>0.070720</td>\n",
              "      <td>1.000000</td>\n",
              "      <td>0.042967</td>\n",
              "    </tr>\n",
              "    <tr>\n",
              "      <th>ANNUAL RAINFALL</th>\n",
              "      <td>0.118648</td>\n",
              "      <td>0.061457</td>\n",
              "      <td>0.116103</td>\n",
              "      <td>0.112358</td>\n",
              "      <td>0.314723</td>\n",
              "      <td>0.453407</td>\n",
              "      <td>0.651990</td>\n",
              "      <td>0.413036</td>\n",
              "      <td>0.428344</td>\n",
              "      <td>0.205861</td>\n",
              "      <td>0.148783</td>\n",
              "      <td>0.042967</td>\n",
              "      <td>1.000000</td>\n",
              "    </tr>\n",
              "  </tbody>\n",
              "</table>\n",
              "</div>"
            ],
            "text/plain": [
              "                       JAN       FEB  ...       DEC   ANNUAL RAINFALL\n",
              "JAN               1.000000  0.019613  ... -0.089809          0.118648\n",
              "FEB               0.019613  1.000000  ... -0.127025          0.061457\n",
              "MAR               0.078626  0.245375  ...  0.026292          0.116103\n",
              "APR               0.034807  0.123706  ... -0.110392          0.112358\n",
              "MAY               0.071420 -0.083500  ... -0.118077          0.314723\n",
              "JUN               0.189375  0.054114  ... -0.085188          0.453407\n",
              "JUL               0.034423  0.005789  ... -0.013573          0.651990\n",
              "AUG               0.008677  0.023259  ...  0.142090          0.413036\n",
              "SEP              -0.113502  0.066317  ... -0.011007          0.428344\n",
              "OCT              -0.035044  0.053133  ... -0.039067          0.205861\n",
              "NOV              -0.011034 -0.162880  ...  0.070720          0.148783\n",
              "DEC              -0.089809 -0.127025  ...  1.000000          0.042967\n",
              " ANNUAL RAINFALL  0.118648  0.061457  ...  0.042967          1.000000\n",
              "\n",
              "[13 rows x 13 columns]"
            ]
          },
          "metadata": {},
          "execution_count": 8
        }
      ]
    },
    {
      "cell_type": "code",
      "metadata": {
        "colab": {
          "base_uri": "https://localhost:8080/"
        },
        "id": "nqeaDnZmmyBR",
        "outputId": "7c89390b-dcf1-4e00-8702-08690ccc8f30"
      },
      "source": [
        "ds.apply(lambda x:sum(x.isnull()), axis = 0)"
      ],
      "execution_count": null,
      "outputs": [
        {
          "output_type": "execute_result",
          "data": {
            "text/plain": [
              "JAN                 0\n",
              "FEB                 0\n",
              "MAR                 0\n",
              "APR                 0\n",
              "MAY                 0\n",
              "JUN                 0\n",
              "JUL                 0\n",
              "AUG                 0\n",
              "SEP                 0\n",
              "OCT                 0\n",
              "NOV                 0\n",
              "DEC                 0\n",
              " ANNUAL RAINFALL    0\n",
              "FLOODS              0\n",
              "dtype: int64"
            ]
          },
          "metadata": {},
          "execution_count": 9
        }
      ]
    },
    {
      "cell_type": "code",
      "metadata": {
        "id": "N_Ljih4N-RNe"
      },
      "source": [
        "ds['FLOODS'].replace(['YES', 'NO'], [1, 0], inplace = True)"
      ],
      "execution_count": null,
      "outputs": []
    },
    {
      "cell_type": "code",
      "metadata": {
        "colab": {
          "base_uri": "https://localhost:8080/"
        },
        "id": "buJdKR6jnfzB",
        "outputId": "dd4efd82-0f54-4ed5-c232-5196030c412a"
      },
      "source": [
        "X = ds.iloc[:,:-1]         #independent variable\n",
        "print(X)"
      ],
      "execution_count": null,
      "outputs": [
        {
          "output_type": "stream",
          "name": "stdout",
          "text": [
            "      JAN   FEB   MAR    APR  ...    OCT    NOV    DEC   ANNUAL RAINFALL\n",
            "0    28.7  44.7  51.6  160.0  ...  266.9  350.8   48.4            3248.6\n",
            "1     6.7   2.6  57.3   83.9  ...  358.4  158.3  121.5            3326.6\n",
            "2     3.2  18.6   3.1   83.6  ...  354.1  157.0   59.0            3271.2\n",
            "3    23.7   3.0  32.2   71.5  ...  328.1   33.9    3.3            3129.7\n",
            "4     1.2  22.3   9.4  105.9  ...  383.5   74.4    0.2            2741.6\n",
            "..    ...   ...   ...    ...  ...    ...    ...    ...               ...\n",
            "113   4.6  10.3  17.9   95.7  ...  355.5   99.5   47.2            3046.4\n",
            "114   3.1   5.8  50.1  214.1  ...  308.1  223.6   79.4            2600.6\n",
            "115   2.4   3.8  35.9  143.0  ...  225.9  125.4   23.6            2176.6\n",
            "116   1.9   6.8   8.9   43.6  ...  192.4   92.5   38.1            2117.1\n",
            "117  29.1  52.1  48.6  116.4  ...  356.1  125.4   65.1            4473.0\n",
            "\n",
            "[118 rows x 13 columns]\n"
          ]
        }
      ]
    },
    {
      "cell_type": "code",
      "metadata": {
        "colab": {
          "base_uri": "https://localhost:8080/"
        },
        "id": "gr45eMLcoI_P",
        "outputId": "f0807819-cc25-4ace-fe15-51104dd8f4fe"
      },
      "source": [
        "y = ds.iloc[:,-1]         #dependent variable\n",
        "print(y)"
      ],
      "execution_count": null,
      "outputs": [
        {
          "output_type": "stream",
          "name": "stdout",
          "text": [
            "0      1\n",
            "1      1\n",
            "2      1\n",
            "3      1\n",
            "4      0\n",
            "      ..\n",
            "113    1\n",
            "114    0\n",
            "115    0\n",
            "116    0\n",
            "117    1\n",
            "Name: FLOODS, Length: 118, dtype: int64\n"
          ]
        }
      ]
    },
    {
      "cell_type": "code",
      "metadata": {
        "colab": {
          "base_uri": "https://localhost:8080/",
          "height": 281
        },
        "id": "sFzgypAqrK29",
        "outputId": "7eec3410-caa5-4001-f699-b800bd932d3f"
      },
      "source": [
        "%matplotlib inline                           \n",
        "c = ds[['JUN', 'JUL', 'AUG', 'SEP']]         \n",
        "c.hist()\n",
        "plt.show()"
      ],
      "execution_count": null,
      "outputs": [
        {
          "output_type": "display_data",
          "data": {
            "image/png": "[encoded data removed]",
            "text/plain": [
              "<Figure size 432x288 with 4 Axes>"
            ]
          },
          "metadata": {
            "needs_background": "light"
          }
        }
      ]
    },
    {
      "cell_type": "code",
      "metadata": {
        "colab": {
          "base_uri": "https://localhost:8080/",
          "height": 467
        },
        "id": "yWOcHZ8wNhBA",
        "outputId": "55d7f0dd-f2b7-4e7d-c72a-dfbe22d300ec"
      },
      "source": [
        "ax = ds[['JAN', 'FEB', 'MAR', 'APR','MAY', 'JUN', 'AUG', 'SEP', 'OCT','NOV','DEC']].mean().plot.bar(width=0.5,edgecolor='k',align='center',linewidth=2,figsize=(14,6))\n",
        "plt.xlabel('Month',fontsize=30)\n",
        "plt.ylabel('Monthly Rainfall',fontsize=20)\n",
        "plt.title('Rainfall in Kerela for all Months',fontsize=25)\n",
        "ax.tick_params(labelsize=20)\n",
        "plt.grid()\n",
        "plt.ioff()"
      ],
      "execution_count": null,
      "outputs": [
        {
          "output_type": "display_data",
          "data": {
            "image/png": "[encoded data removed]",
            "text/plain": [
              "<Figure size 1008x432 with 1 Axes>"
            ]
          },
          "metadata": {
            "needs_background": "light"
          }
        }
      ]
    },
    {
      "cell_type": "code",
      "metadata": {
        "id": "8DQdJ_5wmJld"
      },
      "source": [
        ""
      ],
      "execution_count": null,
      "outputs": []
    },
    {
      "cell_type": "markdown",
      "metadata": {
        "id": "1XV0Ur-k8NHM"
      },
      "source": [
        "Due to the wide distribution of the dataset we scale the data in the range 0 to 1"
      ]
    },
    {
      "cell_type": "code",
      "metadata": {
        "colab": {
          "base_uri": "https://localhost:8080/"
        },
        "id": "HJV5l4ZP7KAk",
        "outputId": "6e0cad8a-6668-4a31-fdd5-467c7300f43b"
      },
      "source": [
        "from sklearn import preprocessing     \n",
        "minmax = preprocessing.MinMaxScaler(feature_range=(0,1))\n",
        "minmax.fit_transform(X)"
      ],
      "execution_count": null,
      "outputs": [
        {
          "output_type": "execute_result",
          "data": {
            "text/plain": [
              "array([[0.34371257, 0.56582278, 0.23721787, ..., 0.95570189, 0.2388724 ,\n",
              "        0.49072457],\n",
              "       [0.08023952, 0.03291139, 0.26347305, ..., 0.37952709, 0.60039565,\n",
              "        0.52316779],\n",
              "       [0.03832335, 0.23544304, 0.01381852, ..., 0.37563604, 0.29129575,\n",
              "        0.50012478],\n",
              "       ...,\n",
              "       [0.02874251, 0.04810127, 0.16490097, ..., 0.28105358, 0.11622156,\n",
              "        0.0448382 ],\n",
              "       [0.02275449, 0.08607595, 0.04053432, ..., 0.18258007, 0.18793274,\n",
              "        0.02008984],\n",
              "       [0.34850299, 0.65949367, 0.22339936, ..., 0.28105358, 0.3214639 ,\n",
              "        1.        ]])"
            ]
          },
          "metadata": {},
          "execution_count": 15
        }
      ]
    },
    {
      "cell_type": "code",
      "metadata": {
        "id": "5DN7oztR9lXV"
      },
      "source": [
        "from sklearn import model_selection\n",
        "from sklearn.model_selection import train_test_split\n",
        "X_train, X_test, y_train, y_test = train_test_split(X, y, test_size = 0.2)"
      ],
      "execution_count": null,
      "outputs": []
    },
    {
      "cell_type": "code",
      "metadata": {
        "colab": {
          "base_uri": "https://localhost:8080/",
          "height": 204
        },
        "id": "4mbeiRVt-HS6",
        "outputId": "b7f7154c-b635-4ad8-df3e-591f59883f68"
      },
      "source": [
        "X_train.head()"
      ],
      "execution_count": null,
      "outputs": [
        {
          "output_type": "execute_result",
          "data": {
            "text/html": [
              "<div>\n",
              "<style scoped>\n",
              "    .dataframe tbody tr th:only-of-type {\n",
              "        vertical-align: middle;\n",
              "    }\n",
              "\n",
              "    .dataframe tbody tr th {\n",
              "        vertical-align: top;\n",
              "    }\n",
              "\n",
              "    .dataframe thead th {\n",
              "        text-align: right;\n",
              "    }\n",
              "</style>\n",
              "<table border=\"1\" class=\"dataframe\">\n",
              "  <thead>\n",
              "    <tr style=\"text-align: right;\">\n",
              "      <th></th>\n",
              "      <th>JAN</th>\n",
              "      <th>FEB</th>\n",
              "      <th>MAR</th>\n",
              "      <th>APR</th>\n",
              "      <th>MAY</th>\n",
              "      <th>JUN</th>\n",
              "      <th>JUL</th>\n",
              "      <th>AUG</th>\n",
              "      <th>SEP</th>\n",
              "      <th>OCT</th>\n",
              "      <th>NOV</th>\n",
              "      <th>DEC</th>\n",
              "      <th>ANNUAL RAINFALL</th>\n",
              "    </tr>\n",
              "  </thead>\n",
              "  <tbody>\n",
              "    <tr>\n",
              "      <th>106</th>\n",
              "      <td>0.5</td>\n",
              "      <td>5.6</td>\n",
              "      <td>7.3</td>\n",
              "      <td>138.5</td>\n",
              "      <td>192.7</td>\n",
              "      <td>705.9</td>\n",
              "      <td>966.3</td>\n",
              "      <td>489.6</td>\n",
              "      <td>526.7</td>\n",
              "      <td>357.2</td>\n",
              "      <td>87.4</td>\n",
              "      <td>11.9</td>\n",
              "      <td>3489.6</td>\n",
              "    </tr>\n",
              "    <tr>\n",
              "      <th>11</th>\n",
              "      <td>1.9</td>\n",
              "      <td>15.0</td>\n",
              "      <td>11.2</td>\n",
              "      <td>122.7</td>\n",
              "      <td>217.3</td>\n",
              "      <td>948.2</td>\n",
              "      <td>833.6</td>\n",
              "      <td>534.4</td>\n",
              "      <td>136.8</td>\n",
              "      <td>469.5</td>\n",
              "      <td>138.7</td>\n",
              "      <td>22.0</td>\n",
              "      <td>3451.3</td>\n",
              "    </tr>\n",
              "    <tr>\n",
              "      <th>6</th>\n",
              "      <td>18.8</td>\n",
              "      <td>4.8</td>\n",
              "      <td>55.7</td>\n",
              "      <td>170.8</td>\n",
              "      <td>101.4</td>\n",
              "      <td>770.9</td>\n",
              "      <td>760.4</td>\n",
              "      <td>981.5</td>\n",
              "      <td>225.0</td>\n",
              "      <td>309.7</td>\n",
              "      <td>219.1</td>\n",
              "      <td>52.8</td>\n",
              "      <td>3671.1</td>\n",
              "    </tr>\n",
              "    <tr>\n",
              "      <th>110</th>\n",
              "      <td>20.5</td>\n",
              "      <td>45.7</td>\n",
              "      <td>24.1</td>\n",
              "      <td>165.2</td>\n",
              "      <td>124.2</td>\n",
              "      <td>788.5</td>\n",
              "      <td>536.8</td>\n",
              "      <td>492.7</td>\n",
              "      <td>391.2</td>\n",
              "      <td>227.2</td>\n",
              "      <td>169.7</td>\n",
              "      <td>49.5</td>\n",
              "      <td>3035.1</td>\n",
              "    </tr>\n",
              "    <tr>\n",
              "      <th>33</th>\n",
              "      <td>74.5</td>\n",
              "      <td>1.7</td>\n",
              "      <td>47.7</td>\n",
              "      <td>92.4</td>\n",
              "      <td>106.7</td>\n",
              "      <td>852.9</td>\n",
              "      <td>415.0</td>\n",
              "      <td>337.2</td>\n",
              "      <td>48.4</td>\n",
              "      <td>335.9</td>\n",
              "      <td>93.4</td>\n",
              "      <td>4.9</td>\n",
              "      <td>2410.7</td>\n",
              "    </tr>\n",
              "  </tbody>\n",
              "</table>\n",
              "</div>"
            ],
            "text/plain": [
              "      JAN   FEB   MAR    APR  ...    OCT    NOV   DEC   ANNUAL RAINFALL\n",
              "106   0.5   5.6   7.3  138.5  ...  357.2   87.4  11.9            3489.6\n",
              "11    1.9  15.0  11.2  122.7  ...  469.5  138.7  22.0            3451.3\n",
              "6    18.8   4.8  55.7  170.8  ...  309.7  219.1  52.8            3671.1\n",
              "110  20.5  45.7  24.1  165.2  ...  227.2  169.7  49.5            3035.1\n",
              "33   74.5   1.7  47.7   92.4  ...  335.9   93.4   4.9            2410.7\n",
              "\n",
              "[5 rows x 13 columns]"
            ]
          },
          "metadata": {},
          "execution_count": 17
        }
      ]
    },
    {
      "cell_type": "code",
      "metadata": {
        "colab": {
          "base_uri": "https://localhost:8080/",
          "height": 204
        },
        "id": "rUn5SnZg-L9h",
        "outputId": "a973af42-c90e-492d-e91f-e7636155d06b"
      },
      "source": [
        "X_test.head()"
      ],
      "execution_count": null,
      "outputs": [
        {
          "output_type": "execute_result",
          "data": {
            "text/html": [
              "<div>\n",
              "<style scoped>\n",
              "    .dataframe tbody tr th:only-of-type {\n",
              "        vertical-align: middle;\n",
              "    }\n",
              "\n",
              "    .dataframe tbody tr th {\n",
              "        vertical-align: top;\n",
              "    }\n",
              "\n",
              "    .dataframe thead th {\n",
              "        text-align: right;\n",
              "    }\n",
              "</style>\n",
              "<table border=\"1\" class=\"dataframe\">\n",
              "  <thead>\n",
              "    <tr style=\"text-align: right;\">\n",
              "      <th></th>\n",
              "      <th>JAN</th>\n",
              "      <th>FEB</th>\n",
              "      <th>MAR</th>\n",
              "      <th>APR</th>\n",
              "      <th>MAY</th>\n",
              "      <th>JUN</th>\n",
              "      <th>JUL</th>\n",
              "      <th>AUG</th>\n",
              "      <th>SEP</th>\n",
              "      <th>OCT</th>\n",
              "      <th>NOV</th>\n",
              "      <th>DEC</th>\n",
              "      <th>ANNUAL RAINFALL</th>\n",
              "    </tr>\n",
              "  </thead>\n",
              "  <tbody>\n",
              "    <tr>\n",
              "      <th>63</th>\n",
              "      <td>1.1</td>\n",
              "      <td>7.8</td>\n",
              "      <td>67.2</td>\n",
              "      <td>83.3</td>\n",
              "      <td>94.8</td>\n",
              "      <td>379.4</td>\n",
              "      <td>754.2</td>\n",
              "      <td>548.0</td>\n",
              "      <td>398.2</td>\n",
              "      <td>325.7</td>\n",
              "      <td>191.7</td>\n",
              "      <td>17.8</td>\n",
              "      <td>2869.1</td>\n",
              "    </tr>\n",
              "    <tr>\n",
              "      <th>100</th>\n",
              "      <td>16.5</td>\n",
              "      <td>28.3</td>\n",
              "      <td>7.0</td>\n",
              "      <td>238.0</td>\n",
              "      <td>238.6</td>\n",
              "      <td>715.3</td>\n",
              "      <td>598.5</td>\n",
              "      <td>361.3</td>\n",
              "      <td>216.8</td>\n",
              "      <td>319.6</td>\n",
              "      <td>181.0</td>\n",
              "      <td>10.1</td>\n",
              "      <td>2931.1</td>\n",
              "    </tr>\n",
              "    <tr>\n",
              "      <th>22</th>\n",
              "      <td>24.7</td>\n",
              "      <td>0.7</td>\n",
              "      <td>78.9</td>\n",
              "      <td>43.5</td>\n",
              "      <td>80.0</td>\n",
              "      <td>722.5</td>\n",
              "      <td>1008.7</td>\n",
              "      <td>943.0</td>\n",
              "      <td>254.3</td>\n",
              "      <td>203.1</td>\n",
              "      <td>83.9</td>\n",
              "      <td>41.6</td>\n",
              "      <td>3484.7</td>\n",
              "    </tr>\n",
              "    <tr>\n",
              "      <th>65</th>\n",
              "      <td>3.0</td>\n",
              "      <td>6.9</td>\n",
              "      <td>67.7</td>\n",
              "      <td>167.4</td>\n",
              "      <td>95.2</td>\n",
              "      <td>496.2</td>\n",
              "      <td>601.9</td>\n",
              "      <td>202.1</td>\n",
              "      <td>293.2</td>\n",
              "      <td>392.3</td>\n",
              "      <td>245.4</td>\n",
              "      <td>50.5</td>\n",
              "      <td>2621.7</td>\n",
              "    </tr>\n",
              "    <tr>\n",
              "      <th>116</th>\n",
              "      <td>1.9</td>\n",
              "      <td>6.8</td>\n",
              "      <td>8.9</td>\n",
              "      <td>43.6</td>\n",
              "      <td>173.5</td>\n",
              "      <td>498.5</td>\n",
              "      <td>319.6</td>\n",
              "      <td>531.8</td>\n",
              "      <td>209.5</td>\n",
              "      <td>192.4</td>\n",
              "      <td>92.5</td>\n",
              "      <td>38.1</td>\n",
              "      <td>2117.1</td>\n",
              "    </tr>\n",
              "  </tbody>\n",
              "</table>\n",
              "</div>"
            ],
            "text/plain": [
              "      JAN   FEB   MAR    APR  ...    OCT    NOV   DEC   ANNUAL RAINFALL\n",
              "63    1.1   7.8  67.2   83.3  ...  325.7  191.7  17.8            2869.1\n",
              "100  16.5  28.3   7.0  238.0  ...  319.6  181.0  10.1            2931.1\n",
              "22   24.7   0.7  78.9   43.5  ...  203.1   83.9  41.6            3484.7\n",
              "65    3.0   6.9  67.7  167.4  ...  392.3  245.4  50.5            2621.7\n",
              "116   1.9   6.8   8.9   43.6  ...  192.4   92.5  38.1            2117.1\n",
              "\n",
              "[5 rows x 13 columns]"
            ]
          },
          "metadata": {},
          "execution_count": 18
        }
      ]
    },
    {
      "cell_type": "code",
      "metadata": {
        "colab": {
          "base_uri": "https://localhost:8080/"
        },
        "id": "j5BejIjNAiv2",
        "outputId": "43d11bb7-e5b6-4055-953b-d6af9f5e804b"
      },
      "source": [
        "y_train.head()"
      ],
      "execution_count": null,
      "outputs": [
        {
          "output_type": "execute_result",
          "data": {
            "text/plain": [
              "106    1\n",
              "11     1\n",
              "6      1\n",
              "110    1\n",
              "33     0\n",
              "Name: FLOODS, dtype: int64"
            ]
          },
          "metadata": {},
          "execution_count": 19
        }
      ]
    },
    {
      "cell_type": "code",
      "metadata": {
        "colab": {
          "base_uri": "https://localhost:8080/"
        },
        "id": "d0WdY69CAmTA",
        "outputId": "481f8a4e-be31-4431-c416-cdae213fe44f"
      },
      "source": [
        "y_test.head()"
      ],
      "execution_count": null,
      "outputs": [
        {
          "output_type": "execute_result",
          "data": {
            "text/plain": [
              "63     0\n",
              "100    0\n",
              "22     1\n",
              "65     0\n",
              "116    0\n",
              "Name: FLOODS, dtype: int64"
            ]
          },
          "metadata": {},
          "execution_count": 20
        }
      ]
    },
    {
      "cell_type": "markdown",
      "metadata": {
        "id": "fAycp0zQ1v37"
      },
      "source": [
        "**1. KNN CLASSIFIER**"
      ]
    },
    {
      "cell_type": "code",
      "metadata": {
        "id": "tmoXhvsW7cBt"
      },
      "source": [
        "from sklearn import neighbors"
      ],
      "execution_count": null,
      "outputs": []
    },
    {
      "cell_type": "code",
      "metadata": {
        "id": "pw_Z2tSt11qd"
      },
      "source": [
        "clf = neighbors.KNeighborsClassifier()\n",
        "knn_clf = clf.fit(X_train,y_train)"
      ],
      "execution_count": null,
      "outputs": []
    },
    {
      "cell_type": "code",
      "metadata": {
        "colab": {
          "base_uri": "https://localhost:8080/"
        },
        "id": "uJY9h9Zig_Gm",
        "outputId": "eb4aad59-799c-4aa0-b6c5-8f180307d865"
      },
      "source": [
        "y_predict = knn_clf.predict(X_test)\n",
        "print('predicted chances of flood')\n",
        "print(y_predict)"
      ],
      "execution_count": null,
      "outputs": [
        {
          "output_type": "stream",
          "name": "stdout",
          "text": [
            "predicted chances of flood\n",
            "[0 1 1 0 0 1 1 0 1 0 0 0 1 0 0 0 1 1 1 1 0 0 1 1]\n"
          ]
        }
      ]
    },
    {
      "cell_type": "code",
      "metadata": {
        "colab": {
          "base_uri": "https://localhost:8080/"
        },
        "id": "tBk7wLc6hFDI",
        "outputId": "c41ca73f-fcf0-474d-8d9b-d740045ebeaa"
      },
      "source": [
        "print(\"actual values of floods:\")\n",
        "print(y_test)"
      ],
      "execution_count": null,
      "outputs": [
        {
          "output_type": "stream",
          "name": "stdout",
          "text": [
            "actual values of floods:\n",
            "63     0\n",
            "100    0\n",
            "22     1\n",
            "65     0\n",
            "116    0\n",
            "28     1\n",
            "41     1\n",
            "5      0\n",
            "18     1\n",
            "64     0\n",
            "52     0\n",
            "114    0\n",
            "23     1\n",
            "55     0\n",
            "115    0\n",
            "111    0\n",
            "90     1\n",
            "42     1\n",
            "70     1\n",
            "45     1\n",
            "89     0\n",
            "16     0\n",
            "113    1\n",
            "46     1\n",
            "Name: FLOODS, dtype: int64\n"
          ]
        }
      ]
    },
    {
      "cell_type": "code",
      "metadata": {
        "colab": {
          "base_uri": "https://localhost:8080/"
        },
        "id": "OaVaxGRmhMaT",
        "outputId": "ef010f21-f760-4c3e-d060-11db9408a1f5"
      },
      "source": [
        "from sklearn.model_selection import cross_val_score\n",
        "knn_accuracy = cross_val_score(knn_clf,X_test,y_test,cv=3,scoring='accuracy',n_jobs=-1)\n",
        "knn_accuracy.mean()"
      ],
      "execution_count": null,
      "outputs": [
        {
          "output_type": "execute_result",
          "data": {
            "text/plain": [
              "0.8333333333333334"
            ]
          },
          "metadata": {},
          "execution_count": 25
        }
      ]
    },
    {
      "cell_type": "markdown",
      "metadata": {
        "id": "_eo9onq73PB-"
      },
      "source": [
        "**2. Logistic Regression**"
      ]
    },
    {
      "cell_type": "code",
      "metadata": {
        "id": "cfq8I8pM4ZnC"
      },
      "source": [
        "X_train_std = minmax.fit_transform(X_train)\n",
        "X_test_std = minmax.transform(X_test)"
      ],
      "execution_count": null,
      "outputs": []
    },
    {
      "cell_type": "code",
      "metadata": {
        "id": "JhTFfNet4j8n"
      },
      "source": [
        "from sklearn.model_selection import cross_val_score\n",
        "from sklearn.linear_model import LogisticRegression\n",
        "\n",
        "lr = LogisticRegression()\n",
        "lr_clf = lr.fit(X_train_std,y_train)\n",
        "\n",
        "lr_accuracy = cross_val_score(lr_clf,X_test_std,y_test,cv=3,scoring='accuracy',n_jobs=-1)"
      ],
      "execution_count": null,
      "outputs": []
    },
    {
      "cell_type": "code",
      "metadata": {
        "colab": {
          "base_uri": "https://localhost:8080/"
        },
        "id": "clrsGMHd4pgN",
        "outputId": "2a9f68e7-6147-479c-abbf-0f13f73be809"
      },
      "source": [
        "lr_accuracy.mean()"
      ],
      "execution_count": null,
      "outputs": [
        {
          "output_type": "execute_result",
          "data": {
            "text/plain": [
              "0.75"
            ]
          },
          "metadata": {},
          "execution_count": 28
        }
      ]
    },
    {
      "cell_type": "code",
      "metadata": {
        "colab": {
          "base_uri": "https://localhost:8080/"
        },
        "id": "PhnCmPU-4s3z",
        "outputId": "9784a295-8ba1-4461-8507-978971e1a896"
      },
      "source": [
        "y_predict = lr_clf.predict(X_test_std)\n",
        "print('Predicted chances of flood')\n",
        "print(y_predict)"
      ],
      "execution_count": null,
      "outputs": [
        {
          "output_type": "stream",
          "name": "stdout",
          "text": [
            "Predicted chances of flood\n",
            "[1 1 1 0 0 1 0 0 1 0 0 0 1 0 0 0 1 1 1 1 0 1 0 1]\n"
          ]
        }
      ]
    },
    {
      "cell_type": "code",
      "metadata": {
        "colab": {
          "base_uri": "https://localhost:8080/"
        },
        "id": "PUeG-Zg04x8R",
        "outputId": "d776bd9b-73f5-4c8a-ff58-3fc2d8a44b97"
      },
      "source": [
        "print('Actual chances of flood')\n",
        "print(y_test.values)"
      ],
      "execution_count": null,
      "outputs": [
        {
          "output_type": "stream",
          "name": "stdout",
          "text": [
            "Actual chances of flood\n",
            "[0 0 1 0 0 1 1 0 1 0 0 0 1 0 0 0 1 1 1 1 0 0 1 1]\n"
          ]
        }
      ]
    },
    {
      "cell_type": "code",
      "metadata": {
        "colab": {
          "base_uri": "https://localhost:8080/"
        },
        "id": "S84b24p141Y4",
        "outputId": "6f1d25ad-8579-41f9-f84d-4149f2e53a41"
      },
      "source": [
        "from sklearn.metrics import accuracy_score,recall_score,roc_auc_score,confusion_matrix\n",
        "print(\"\\naccuracy score: %f\"%(accuracy_score(y_test,y_predict)*100))\n",
        "print(\"recall score: %f\"%(recall_score(y_test,y_predict)*100))\n",
        "print(\"roc score: %f\"%(roc_auc_score(y_test,y_predict)*100))"
      ],
      "execution_count": null,
      "outputs": [
        {
          "output_type": "stream",
          "name": "stdout",
          "text": [
            "\n",
            "accuracy score: 79.166667\n",
            "recall score: 81.818182\n",
            "roc score: 79.370629\n"
          ]
        }
      ]
    },
    {
      "cell_type": "markdown",
      "metadata": {
        "id": "FarPiPX8huAh"
      },
      "source": [
        "**3. DECISION TREE**"
      ]
    },
    {
      "cell_type": "code",
      "metadata": {
        "colab": {
          "base_uri": "https://localhost:8080/"
        },
        "id": "LOqHQH1bhw9L",
        "outputId": "50aeedad-5d70-4f4d-a9d1-e3650bf8160f"
      },
      "source": [
        "from sklearn.tree import DecisionTreeClassifier\n",
        "dtc_clf = DecisionTreeClassifier()\n",
        "dtc_clf.fit(X_train,y_train)\n",
        "dtc_clf_acc = cross_val_score(dtc_clf,X_train_std,y_train,cv=3,scoring=\"accuracy\",n_jobs=-1)\n",
        "dtc_clf_acc"
      ],
      "execution_count": null,
      "outputs": [
        {
          "output_type": "execute_result",
          "data": {
            "text/plain": [
              "array([1.        , 0.96774194, 0.96774194])"
            ]
          },
          "metadata": {},
          "execution_count": 32
        }
      ]
    },
    {
      "cell_type": "code",
      "metadata": {
        "colab": {
          "base_uri": "https://localhost:8080/"
        },
        "id": "G968XWcth6WO",
        "outputId": "41347a89-6a29-4634-c834-9a84bbe9d047"
      },
      "source": [
        "y_pred = dtc_clf.predict(X_test)\n",
        "print(y_pred)"
      ],
      "execution_count": null,
      "outputs": [
        {
          "output_type": "stream",
          "name": "stdout",
          "text": [
            "[0 1 1 0 0 1 1 0 1 0 0 0 1 0 0 0 1 1 1 1 0 0 1 1]\n"
          ]
        }
      ]
    },
    {
      "cell_type": "code",
      "metadata": {
        "colab": {
          "base_uri": "https://localhost:8080/"
        },
        "id": "GZLJcZ91h6uQ",
        "outputId": "17911356-e9fc-42f3-ae48-b8425efa2663"
      },
      "source": [
        "print(\"actual values:\")\n",
        "print(y_test.values)"
      ],
      "execution_count": null,
      "outputs": [
        {
          "output_type": "stream",
          "name": "stdout",
          "text": [
            "actual values:\n",
            "[0 0 1 0 0 1 1 0 1 0 0 0 1 0 0 0 1 1 1 1 0 0 1 1]\n"
          ]
        }
      ]
    },
    {
      "cell_type": "code",
      "metadata": {
        "colab": {
          "base_uri": "https://localhost:8080/"
        },
        "id": "zO8flNg3h7Cw",
        "outputId": "873be190-a15a-417f-f1b6-0cb0437db740"
      },
      "source": [
        "from sklearn.metrics import accuracy_score,recall_score,roc_auc_score,confusion_matrix\n",
        "print(\"\\naccuracy score:%f\"%(accuracy_score(y_test,y_pred)*100))\n",
        "print(\"recall score:%f\"%(recall_score(y_test,y_pred)*100))\n",
        "print(\"roc score:%f\"%(roc_auc_score(y_test,y_pred)*100))"
      ],
      "execution_count": null,
      "outputs": [
        {
          "output_type": "stream",
          "name": "stdout",
          "text": [
            "\n",
            "accuracy score:95.833333\n",
            "recall score:100.000000\n",
            "roc score:96.153846\n"
          ]
        }
      ]
    },
    {
      "cell_type": "markdown",
      "metadata": {
        "id": "JQQtTJq23Tfq"
      },
      "source": [
        "**4. Random Forest Classification**\n",
        "\n",
        "\n"
      ]
    },
    {
      "cell_type": "code",
      "metadata": {
        "colab": {
          "base_uri": "https://localhost:8080/"
        },
        "id": "p1u2U1xe3bn_",
        "outputId": "5c84841a-8c19-4326-9e4c-d63fdd872316"
      },
      "source": [
        "from sklearn.ensemble import RandomForestClassifier\n",
        "rmf = RandomForestClassifier(max_depth=3, random_state=0)\n",
        "rmf_clf = rmf.fit(X_train,y_train)\n",
        "rmf_clf"
      ],
      "execution_count": null,
      "outputs": [
        {
          "output_type": "execute_result",
          "data": {
            "text/plain": [
              "RandomForestClassifier(bootstrap=True, ccp_alpha=0.0, class_weight=None,\n",
              "                       criterion='gini', max_depth=3, max_features='auto',\n",
              "                       max_leaf_nodes=None, max_samples=None,\n",
              "                       min_impurity_decrease=0.0, min_impurity_split=None,\n",
              "                       min_samples_leaf=1, min_samples_split=2,\n",
              "                       min_weight_fraction_leaf=0.0, n_estimators=100,\n",
              "                       n_jobs=None, oob_score=False, random_state=0, verbose=0,\n",
              "                       warm_start=False)"
            ]
          },
          "metadata": {},
          "execution_count": 36
        }
      ]
    },
    {
      "cell_type": "code",
      "metadata": {
        "id": "x3STXtyb3qIf"
      },
      "source": [
        "rmf_clf_acc = cross_val_score(rmf_clf,X_train_std,y_train,cv=3,scoring=\"accuracy\",n_jobs=-1)"
      ],
      "execution_count": null,
      "outputs": []
    },
    {
      "cell_type": "code",
      "metadata": {
        "colab": {
          "base_uri": "https://localhost:8080/"
        },
        "id": "x4PWQfbc5BE-",
        "outputId": "e9b1f885-63c2-41d2-f897-9a559bb3d7ea"
      },
      "source": [
        "rmf_clf_acc"
      ],
      "execution_count": null,
      "outputs": [
        {
          "output_type": "execute_result",
          "data": {
            "text/plain": [
              "array([1.        , 0.96774194, 1.        ])"
            ]
          },
          "metadata": {},
          "execution_count": 38
        }
      ]
    },
    {
      "cell_type": "code",
      "metadata": {
        "id": "E73Yup3p5GSr"
      },
      "source": [
        "y_pred = rmf_clf.predict(X_test)"
      ],
      "execution_count": null,
      "outputs": []
    },
    {
      "cell_type": "code",
      "metadata": {
        "colab": {
          "base_uri": "https://localhost:8080/"
        },
        "id": "GETFgAMTGvO4",
        "outputId": "6963c1d0-3af2-4caf-86ff-314b00afd351"
      },
      "source": [
        "print(y_pred)"
      ],
      "execution_count": null,
      "outputs": [
        {
          "output_type": "stream",
          "name": "stdout",
          "text": [
            "[0 1 1 0 0 1 1 0 1 0 0 0 1 0 0 0 1 1 1 1 0 0 1 1]\n"
          ]
        }
      ]
    },
    {
      "cell_type": "code",
      "metadata": {
        "colab": {
          "base_uri": "https://localhost:8080/"
        },
        "id": "eczmFQ0d5MSd",
        "outputId": "1eb634f6-16c1-4660-8c59-9e9a339088de"
      },
      "source": [
        "from sklearn.metrics import accuracy_score,recall_score,roc_auc_score,confusion_matrix\n",
        "print(\"\\naccuracy score:%f\"%(accuracy_score(y_test,y_pred)*100))\n",
        "print(\"recall score:%f\"%(recall_score(y_test,y_pred)*100))\n",
        "print(\"roc score:%f\"%(roc_auc_score(y_test,y_pred)*100))"
      ],
      "execution_count": null,
      "outputs": [
        {
          "output_type": "stream",
          "name": "stdout",
          "text": [
            "\n",
            "accuracy score:95.833333\n",
            "recall score:100.000000\n",
            "roc score:96.153846\n"
          ]
        }
      ]
    },
    {
      "cell_type": "markdown",
      "metadata": {
        "id": "j0HnuRhj3Ypu"
      },
      "source": [
        "**5. Enseble Learning**"
      ]
    },
    {
      "cell_type": "code",
      "metadata": {
        "id": "s9ihMwT27KaE"
      },
      "source": [
        "from sklearn.ensemble import VotingClassifier\n",
        "from sklearn.ensemble import RandomForestClassifier\n",
        "from sklearn.linear_model import LogisticRegression\n",
        "from sklearn.neighbors import KNeighborsClassifier\n",
        "\n",
        "log_clf = LogisticRegression(solver=\"liblinear\", random_state=42)\n",
        "rnd_clf = RandomForestClassifier(n_estimators=10, random_state=42)\n",
        "knn_clf = KNeighborsClassifier()\n",
        "\n",
        "voting = VotingClassifier(\n",
        "    estimators=[('lr', log_clf), ('rf', rnd_clf), ('knn', knn_clf)],\n",
        "    voting='hard')"
      ],
      "execution_count": null,
      "outputs": []
    },
    {
      "cell_type": "code",
      "metadata": {
        "id": "544I0JhxI30k"
      },
      "source": [
        "voting_clf = voting.fit(X_train, y_train)"
      ],
      "execution_count": null,
      "outputs": []
    },
    {
      "cell_type": "code",
      "metadata": {
        "colab": {
          "base_uri": "https://localhost:8080/"
        },
        "id": "wsXr5pIVSdmU",
        "outputId": "404378cf-a819-4406-857f-340b8b8349bc"
      },
      "source": [
        "from sklearn.metrics import accuracy_score\n",
        "\n",
        "for clf in (log_clf, rnd_clf, knn_clf, voting_clf):\n",
        "    clf.fit(X_train, y_train)\n",
        "    y_pred = clf.predict(X_test)\n",
        "    print(clf.__class__.__name__, accuracy_score(y_test, y_pred))"
      ],
      "execution_count": null,
      "outputs": [
        {
          "output_type": "stream",
          "name": "stdout",
          "text": [
            "LogisticRegression 0.75\n",
            "RandomForestClassifier 0.8333333333333334\n",
            "KNeighborsClassifier 0.9583333333333334\n",
            "VotingClassifier 0.9583333333333334\n"
          ]
        }
      ]
    },
    {
      "cell_type": "code",
      "metadata": {
        "id": "4ncbKpJIa5CZ",
        "colab": {
          "base_uri": "https://localhost:8080/"
        },
        "outputId": "b8f8a321-5588-40e2-e7bd-d8b7bd0421e0"
      },
      "source": [
        "models = []\n",
        "from sklearn.neighbors import KNeighborsClassifier\n",
        "from sklearn.linear_model import LogisticRegression\n",
        "from sklearn.tree import DecisionTreeClassifier\n",
        "from sklearn.svm import SVC\n",
        "from sklearn.ensemble import RandomForestClassifier\n",
        "from sklearn.ensemble import VotingClassifier\n",
        "models.append(('KNN', KNeighborsClassifier()))\n",
        "models.append(('LR', LogisticRegression(solver = 'liblinear', random_state=42)))\n",
        "models.append(('DT', DecisionTreeClassifier()))\n",
        "models.append(('RF', RandomForestClassifier(n_estimators = 10,random_state=42)))\n",
        "models.append(('EL', VotingClassifier(\n",
        "    estimators=[('lr', log_clf), ('rf', rnd_clf), ('knn', knn_clf)],\n",
        "    voting='hard')))\n",
        "\n",
        "\n",
        "names = []\n",
        "scores = []\n",
        "for name, model in models:\n",
        "    model.fit(X_train, y_train)\n",
        "    y_pred = model.predict(X_test)\n",
        "    scores.append(accuracy_score(y_test, y_pred))\n",
        "    names.append(name)\n",
        "tr_split = pd.DataFrame({'Name': names, 'Score': scores})\n",
        "print(tr_split)"
      ],
      "execution_count": null,
      "outputs": [
        {
          "output_type": "stream",
          "name": "stdout",
          "text": [
            "  Name     Score\n",
            "0  KNN  0.958333\n",
            "1   LR  0.750000\n",
            "2   DT  0.958333\n",
            "3   RF  0.833333\n",
            "4   EL  0.958333\n"
          ]
        }
      ]
    },
    {
      "cell_type": "code",
      "metadata": {
        "colab": {
          "base_uri": "https://localhost:8080/",
          "height": 282
        },
        "id": "iVVapAv1llMH",
        "outputId": "bb520eaa-d925-4dfd-ed77-e04024e8370f"
      },
      "source": [
        "import seaborn as sns\n",
        "axis = sns.barplot(x = 'Name', y = 'Score', data =tr_split )\n",
        "axis.set(xlabel='Classifier', ylabel='Accuracy')\n",
        "for p in axis.patches:\n",
        "    height = p.get_height()\n",
        "    axis.text(p.get_x() + p.get_width()/2, height + 0.005, '{:1.4f}'.format(height), ha=\"center\") \n",
        "    \n",
        "plt.show()"
      ],
      "execution_count": null,
      "outputs": [
        {
          "output_type": "display_data",
          "data": {
            "image/png": "[encoded data removed]",
            "text/plain": [
              "<Figure size 432x288 with 1 Axes>"
            ]
          },
          "metadata": {
            "needs_background": "light"
          }
        }
      ]
    }
  ]
}